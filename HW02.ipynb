{
 "cells": [
  {
   "cell_type": "markdown",
   "metadata": {},
   "source": [
    "#  Homework 2\n",
    "\n",
    "Deadline: March 10th 11:59pm\n",
    "\n",
    "Hand in: the homework must be handed in through the Moodle system. \n",
    "\n",
    "<span style=\"color:red\">Provide a written answer if requested in the exercise! These questions are marked in red.</span>"
   ]
  },
  {
   "cell_type": "markdown",
   "metadata": {},
   "source": [
    "---"
   ]
  },
  {
   "cell_type": "markdown",
   "metadata": {},
   "source": [
    "## Exercise 1 "
   ]
  },
  {
   "cell_type": "markdown",
   "metadata": {},
   "source": [
    "APIs are a great way to collect data for your projects. Here are a few API you can try out:\n",
    "\n",
    "- https://developer.nytimes.com/docs/archive-product/1/overview\n",
    "- https://api.wikimedia.org/wiki/Getting_started_with_Wikimedia_APIs\n",
    "- https://api.semanticscholar.org/api-docs/graph#tag/Paper-Data/operation/get_graph_get_paper_citations\n",
    "\n",
    "In this exercise you'll collect and clean data from an API. This could be a good oportunity to collect data for your final project. (20%)"
   ]
  },
  {
   "cell_type": "markdown",
   "metadata": {},
   "source": [
    "**a)** Collect data from an API of your choice. Proccess the returned data so that each unique data feature is a column in a pandas dataframe. Investigate missing data, such as NaN values, and apply a solution. Cast data columns to be the right type for the data they contain. Display the cleaned data frame using .head()."
   ]
  },
  {
   "cell_type": "code",
   "execution_count": 6,
   "metadata": {},
   "outputs": [],
   "source": [
    "import requests\n",
    "import json"
   ]
  },
  {
   "cell_type": "code",
   "execution_count": 9,
   "metadata": {},
   "outputs": [],
   "source": [
    "api_key = 'lt06iVOvngWYAy29i79LsYG8fa99LrVn' \n",
    "url = 'https://api.nytimes.com/svc/archive/v1/2019/1.json?api-key=' + api_key"
   ]
  },
  {
   "cell_type": "code",
   "execution_count": 13,
   "metadata": {},
   "outputs": [],
   "source": [
    "response = requests.get(url).json()['response']['docs']"
   ]
  },
  {
   "cell_type": "code",
   "execution_count": 14,
   "metadata": {},
   "outputs": [],
   "source": [
    "with open(\"./Data/nytimes.json\", \"w\") as file:\n",
    "    json.dump(response, file, indent=4)\n"
   ]
  },
  {
   "cell_type": "markdown",
   "metadata": {},
   "source": [
    "Now we can load the data from our file to the dataframe"
   ]
  },
  {
   "cell_type": "code",
   "execution_count": null,
   "metadata": {},
   "outputs": [],
   "source": [
    "import pandas as pd"
   ]
  },
  {
   "cell_type": "code",
   "execution_count": 18,
   "metadata": {},
   "outputs": [
    {
     "data": {
      "text/html": [
       "<div>\n",
       "<style scoped>\n",
       "    .dataframe tbody tr th:only-of-type {\n",
       "        vertical-align: middle;\n",
       "    }\n",
       "\n",
       "    .dataframe tbody tr th {\n",
       "        vertical-align: top;\n",
       "    }\n",
       "\n",
       "    .dataframe thead th {\n",
       "        text-align: right;\n",
       "    }\n",
       "</style>\n",
       "<table border=\"1\" class=\"dataframe\">\n",
       "  <thead>\n",
       "    <tr style=\"text-align: right;\">\n",
       "      <th></th>\n",
       "      <th>abstract</th>\n",
       "      <th>web_url</th>\n",
       "      <th>snippet</th>\n",
       "      <th>lead_paragraph</th>\n",
       "      <th>source</th>\n",
       "      <th>multimedia</th>\n",
       "      <th>headline</th>\n",
       "      <th>keywords</th>\n",
       "      <th>pub_date</th>\n",
       "      <th>document_type</th>\n",
       "      <th>news_desk</th>\n",
       "      <th>section_name</th>\n",
       "      <th>byline</th>\n",
       "      <th>type_of_material</th>\n",
       "      <th>_id</th>\n",
       "      <th>word_count</th>\n",
       "      <th>uri</th>\n",
       "      <th>print_section</th>\n",
       "      <th>print_page</th>\n",
       "      <th>subsection_name</th>\n",
       "    </tr>\n",
       "  </thead>\n",
       "  <tbody>\n",
       "    <tr>\n",
       "      <th>0</th>\n",
       "      <td>From the Treaty of Versailles to Prohibition, ...</td>\n",
       "      <td>https://www.nytimes.com/2018/12/31/opinion/191...</td>\n",
       "      <td>From the Treaty of Versailles to Prohibition, ...</td>\n",
       "      <td>Throughout 2019, The New York Times Opinion se...</td>\n",
       "      <td>The New York Times</td>\n",
       "      <td>[{'rank': 0, 'subtype': 'xlarge', 'caption': N...</td>\n",
       "      <td>{'main': '1919: The Year of the Crack-Up', 'ki...</td>\n",
       "      <td>[{'name': 'subject', 'value': 'United States P...</td>\n",
       "      <td>2019-01-01T00:00:03+0000</td>\n",
       "      <td>article</td>\n",
       "      <td>OpEd</td>\n",
       "      <td>Opinion</td>\n",
       "      <td>{'original': 'By Ted Widmer', 'person': [{'fir...</td>\n",
       "      <td>Op-Ed</td>\n",
       "      <td>nyt://article/b205ee80-0859-514e-be2a-b8ecf0cc...</td>\n",
       "      <td>2248</td>\n",
       "      <td>nyt://article/b205ee80-0859-514e-be2a-b8ecf0cc...</td>\n",
       "      <td>NaN</td>\n",
       "      <td>NaN</td>\n",
       "      <td>NaN</td>\n",
       "    </tr>\n",
       "    <tr>\n",
       "      <th>1</th>\n",
       "      <td>Imagine what we could do with our money, and h...</td>\n",
       "      <td>https://www.nytimes.com/2018/12/31/opinion/sma...</td>\n",
       "      <td>Imagine what we could do with our money, and h...</td>\n",
       "      <td>More than three-quarters of all Americans own ...</td>\n",
       "      <td>The New York Times</td>\n",
       "      <td>[{'rank': 0, 'subtype': 'xlarge', 'caption': N...</td>\n",
       "      <td>{'main': 'In Search of Lost Screen Time', 'kic...</td>\n",
       "      <td>[{'name': 'subject', 'value': 'Smartphones', '...</td>\n",
       "      <td>2019-01-01T00:00:07+0000</td>\n",
       "      <td>article</td>\n",
       "      <td>OpEd</td>\n",
       "      <td>Opinion</td>\n",
       "      <td>{'original': 'By Paul Greenberg', 'person': [{...</td>\n",
       "      <td>Op-Ed</td>\n",
       "      <td>nyt://article/e4936e7b-0060-5026-b32d-a01e0b76...</td>\n",
       "      <td>985</td>\n",
       "      <td>nyt://article/e4936e7b-0060-5026-b32d-a01e0b76...</td>\n",
       "      <td>A</td>\n",
       "      <td>19</td>\n",
       "      <td>NaN</td>\n",
       "    </tr>\n",
       "    <tr>\n",
       "      <th>2</th>\n",
       "      <td>Wells was a deep threat for the vaunted Oaklan...</td>\n",
       "      <td>https://www.nytimes.com/2018/12/31/obituaries/...</td>\n",
       "      <td>Wells was a deep threat for the vaunted Oaklan...</td>\n",
       "      <td>Warren Wells, a former wide receiver who becam...</td>\n",
       "      <td>The New York Times</td>\n",
       "      <td>[{'rank': 0, 'subtype': 'xlarge', 'caption': N...</td>\n",
       "      <td>{'main': 'Warren Wells, Star Receiver With a D...</td>\n",
       "      <td>[{'name': 'persons', 'value': 'Wells, Warren (...</td>\n",
       "      <td>2019-01-01T00:08:04+0000</td>\n",
       "      <td>article</td>\n",
       "      <td>Obits</td>\n",
       "      <td>Obituaries</td>\n",
       "      <td>{'original': 'By Daniel E. Slotnik', 'person':...</td>\n",
       "      <td>Obituary (Obit)</td>\n",
       "      <td>nyt://article/6a4103d6-34e0-5979-86a2-b5481926...</td>\n",
       "      <td>701</td>\n",
       "      <td>nyt://article/6a4103d6-34e0-5979-86a2-b5481926...</td>\n",
       "      <td>B</td>\n",
       "      <td>10</td>\n",
       "      <td>NaN</td>\n",
       "    </tr>\n",
       "    <tr>\n",
       "      <th>3</th>\n",
       "      <td>Can the Constitution withstand the partisans?</td>\n",
       "      <td>https://www.nytimes.com/2018/12/31/opinion/tru...</td>\n",
       "      <td>Can the Constitution withstand the partisans?</td>\n",
       "      <td>In Willa Cather’s novel “My Antonia,” there ar...</td>\n",
       "      <td>The New York Times</td>\n",
       "      <td>[{'rank': 0, 'subtype': 'xlarge', 'caption': N...</td>\n",
       "      <td>{'main': '2019: The Year of the Wolves', 'kick...</td>\n",
       "      <td>[{'name': 'persons', 'value': 'Trump, Donald J...</td>\n",
       "      <td>2019-01-01T00:15:31+0000</td>\n",
       "      <td>article</td>\n",
       "      <td>OpEd</td>\n",
       "      <td>Opinion</td>\n",
       "      <td>{'original': 'By David Brooks', 'person': [{'f...</td>\n",
       "      <td>Op-Ed</td>\n",
       "      <td>nyt://article/079f32e4-f544-562e-9c92-b47209c3...</td>\n",
       "      <td>845</td>\n",
       "      <td>nyt://article/079f32e4-f544-562e-9c92-b47209c3...</td>\n",
       "      <td>A</td>\n",
       "      <td>19</td>\n",
       "      <td>NaN</td>\n",
       "    </tr>\n",
       "    <tr>\n",
       "      <th>4</th>\n",
       "      <td>The Christian right doesn’t like the president...</td>\n",
       "      <td>https://www.nytimes.com/2018/12/31/opinion/tru...</td>\n",
       "      <td>The Christian right doesn’t like the president...</td>\n",
       "      <td>The month before the 2018 midterms, a thousand...</td>\n",
       "      <td>The New York Times</td>\n",
       "      <td>[{'rank': 0, 'subtype': 'xlarge', 'caption': N...</td>\n",
       "      <td>{'main': 'Why Trump Reigns as King Cyrus', 'ki...</td>\n",
       "      <td>[{'name': 'subject', 'value': 'United States P...</td>\n",
       "      <td>2019-01-01T00:29:12+0000</td>\n",
       "      <td>article</td>\n",
       "      <td>OpEd</td>\n",
       "      <td>Opinion</td>\n",
       "      <td>{'original': 'By Katherine Stewart', 'person':...</td>\n",
       "      <td>Op-Ed</td>\n",
       "      <td>nyt://article/99ea5a45-885e-5fce-bd4a-6a9a999b...</td>\n",
       "      <td>879</td>\n",
       "      <td>nyt://article/99ea5a45-885e-5fce-bd4a-6a9a999b...</td>\n",
       "      <td>A</td>\n",
       "      <td>19</td>\n",
       "      <td>NaN</td>\n",
       "    </tr>\n",
       "  </tbody>\n",
       "</table>\n",
       "</div>"
      ],
      "text/plain": [
       "                                            abstract  \\\n",
       "0  From the Treaty of Versailles to Prohibition, ...   \n",
       "1  Imagine what we could do with our money, and h...   \n",
       "2  Wells was a deep threat for the vaunted Oaklan...   \n",
       "3      Can the Constitution withstand the partisans?   \n",
       "4  The Christian right doesn’t like the president...   \n",
       "\n",
       "                                             web_url  \\\n",
       "0  https://www.nytimes.com/2018/12/31/opinion/191...   \n",
       "1  https://www.nytimes.com/2018/12/31/opinion/sma...   \n",
       "2  https://www.nytimes.com/2018/12/31/obituaries/...   \n",
       "3  https://www.nytimes.com/2018/12/31/opinion/tru...   \n",
       "4  https://www.nytimes.com/2018/12/31/opinion/tru...   \n",
       "\n",
       "                                             snippet  \\\n",
       "0  From the Treaty of Versailles to Prohibition, ...   \n",
       "1  Imagine what we could do with our money, and h...   \n",
       "2  Wells was a deep threat for the vaunted Oaklan...   \n",
       "3      Can the Constitution withstand the partisans?   \n",
       "4  The Christian right doesn’t like the president...   \n",
       "\n",
       "                                      lead_paragraph              source  \\\n",
       "0  Throughout 2019, The New York Times Opinion se...  The New York Times   \n",
       "1  More than three-quarters of all Americans own ...  The New York Times   \n",
       "2  Warren Wells, a former wide receiver who becam...  The New York Times   \n",
       "3  In Willa Cather’s novel “My Antonia,” there ar...  The New York Times   \n",
       "4  The month before the 2018 midterms, a thousand...  The New York Times   \n",
       "\n",
       "                                          multimedia  \\\n",
       "0  [{'rank': 0, 'subtype': 'xlarge', 'caption': N...   \n",
       "1  [{'rank': 0, 'subtype': 'xlarge', 'caption': N...   \n",
       "2  [{'rank': 0, 'subtype': 'xlarge', 'caption': N...   \n",
       "3  [{'rank': 0, 'subtype': 'xlarge', 'caption': N...   \n",
       "4  [{'rank': 0, 'subtype': 'xlarge', 'caption': N...   \n",
       "\n",
       "                                            headline  \\\n",
       "0  {'main': '1919: The Year of the Crack-Up', 'ki...   \n",
       "1  {'main': 'In Search of Lost Screen Time', 'kic...   \n",
       "2  {'main': 'Warren Wells, Star Receiver With a D...   \n",
       "3  {'main': '2019: The Year of the Wolves', 'kick...   \n",
       "4  {'main': 'Why Trump Reigns as King Cyrus', 'ki...   \n",
       "\n",
       "                                            keywords  \\\n",
       "0  [{'name': 'subject', 'value': 'United States P...   \n",
       "1  [{'name': 'subject', 'value': 'Smartphones', '...   \n",
       "2  [{'name': 'persons', 'value': 'Wells, Warren (...   \n",
       "3  [{'name': 'persons', 'value': 'Trump, Donald J...   \n",
       "4  [{'name': 'subject', 'value': 'United States P...   \n",
       "\n",
       "                   pub_date document_type news_desk section_name  \\\n",
       "0  2019-01-01T00:00:03+0000       article      OpEd      Opinion   \n",
       "1  2019-01-01T00:00:07+0000       article      OpEd      Opinion   \n",
       "2  2019-01-01T00:08:04+0000       article     Obits   Obituaries   \n",
       "3  2019-01-01T00:15:31+0000       article      OpEd      Opinion   \n",
       "4  2019-01-01T00:29:12+0000       article      OpEd      Opinion   \n",
       "\n",
       "                                              byline type_of_material  \\\n",
       "0  {'original': 'By Ted Widmer', 'person': [{'fir...            Op-Ed   \n",
       "1  {'original': 'By Paul Greenberg', 'person': [{...            Op-Ed   \n",
       "2  {'original': 'By Daniel E. Slotnik', 'person':...  Obituary (Obit)   \n",
       "3  {'original': 'By David Brooks', 'person': [{'f...            Op-Ed   \n",
       "4  {'original': 'By Katherine Stewart', 'person':...            Op-Ed   \n",
       "\n",
       "                                                 _id  word_count  \\\n",
       "0  nyt://article/b205ee80-0859-514e-be2a-b8ecf0cc...        2248   \n",
       "1  nyt://article/e4936e7b-0060-5026-b32d-a01e0b76...         985   \n",
       "2  nyt://article/6a4103d6-34e0-5979-86a2-b5481926...         701   \n",
       "3  nyt://article/079f32e4-f544-562e-9c92-b47209c3...         845   \n",
       "4  nyt://article/99ea5a45-885e-5fce-bd4a-6a9a999b...         879   \n",
       "\n",
       "                                                 uri print_section print_page  \\\n",
       "0  nyt://article/b205ee80-0859-514e-be2a-b8ecf0cc...           NaN        NaN   \n",
       "1  nyt://article/e4936e7b-0060-5026-b32d-a01e0b76...             A         19   \n",
       "2  nyt://article/6a4103d6-34e0-5979-86a2-b5481926...             B         10   \n",
       "3  nyt://article/079f32e4-f544-562e-9c92-b47209c3...             A         19   \n",
       "4  nyt://article/99ea5a45-885e-5fce-bd4a-6a9a999b...             A         19   \n",
       "\n",
       "  subsection_name  \n",
       "0             NaN  \n",
       "1             NaN  \n",
       "2             NaN  \n",
       "3             NaN  \n",
       "4             NaN  "
      ]
     },
     "execution_count": 18,
     "metadata": {},
     "output_type": "execute_result"
    }
   ],
   "source": [
    "pd.DataFrame(response).head()"
   ]
  },
  {
   "cell_type": "markdown",
   "metadata": {},
   "source": [
    "**b)** Use the dataframe created in part a) to answer an exploratory data analysis question of your choice. State your question, design a data visualization that answers your question and <span style=\"color:red\">discuss</span>."
   ]
  },
  {
   "cell_type": "markdown",
   "metadata": {},
   "source": [
    "## Exercise 2 "
   ]
  },
  {
   "cell_type": "markdown",
   "metadata": {},
   "source": [
    "The [Round University Ranking (RUR)](https://roundranking.com/ranking/world-university-rankings.html#world-2021) evaluates the performance of 867 world’s leading higher education institutions by 20 indicators grouped into 4 key areas of university activity: Teaching, Research, International Diversity, Financial Sustainability. The top 100 universities are placed in the diamond league, the next 100 in the gold league and so on... (40%)"
   ]
  },
  {
   "cell_type": "markdown",
   "metadata": {},
   "source": [
    "**a)**  Using the scraping techniques covered in class, scrape the following data fields about the universities (from the website linked above): The name of the University, in which country the University is located, their score and league given by the RUR ranking. Then load the data into a Pandas DataFrame called *df* with the following column names: <font style='font-style : oblique'>University</font>, <font style='font-style : oblique'>Country</font>, <font style='font-style : oblique'>Score</font> and <font style='font-style : oblique'>League</font>. \n",
    "\n",
    "IMPORTANT: You should not re-scrape the data every time you work on the homework, because we don't want the RUR servers to get overloaded. Instead, scrape the data once and then save it to a local file on your computer (Hint: use the *pd.to_csv()* function), then load the data from this file instead of re-scraping the website."
   ]
  },
  {
   "cell_type": "code",
   "execution_count": null,
   "metadata": {},
   "outputs": [],
   "source": [
    "!pip install beautifulsoup4\n",
    "!pip3 install selenium\n",
    "!pip3 install webdriver-manager"
   ]
  },
  {
   "cell_type": "code",
   "execution_count": null,
   "metadata": {},
   "outputs": [],
   "source": [
    "import bs4\n",
    "import selenium"
   ]
  },
  {
   "cell_type": "code",
   "execution_count": null,
   "metadata": {},
   "outputs": [],
   "source": [
    "from selenium import webdriver\n",
    "from selenium.webdriver.chrome.service import Service\n",
    "from webdriver_manager.chrome import ChromeDriverManager\n",
    "\n",
    "driver = webdriver.Chrome(service=Service(ChromeDriverManager().install()))\n",
    "driver.get('https://roundranking.com/ranking/world-university-rankings.html#world-2021')"
   ]
  },
  {
   "cell_type": "code",
   "execution_count": null,
   "metadata": {},
   "outputs": [],
   "source": [
    "a = soup.find_all('table')\n",
    "print(a)"
   ]
  },
  {
   "cell_type": "markdown",
   "metadata": {},
   "source": [
    "**b)** Filter the data as follows:\n",
    "- Filter out the US universities. (The analysis aims to find out which universities rank high outside the USA to help US students in choosing a study abroad program.)\n",
    "- Only keep the universities in the Diamond, Gold, Silver and Bronze league.\n",
    "- Sort the dataframe by score. <span style=\"color:red\">Which are the top 5 ranking universities?</span>"
   ]
  },
  {
   "cell_type": "markdown",
   "metadata": {},
   "source": [
    "**c)** Create a word cloud from the Mission Statements of the top Universities. We have already scraped these statements for you. You can find the scraped data [here](https://math.bme.hu/~pinterj/BevAdat1/Adatok/wordcloud.txt)! <br>\n",
    "- Load the text data from this site into a string variable! (Hint: You can load the data with *urlopen* as shown in Notebook2)\n",
    "- Omit the word university from the data!\n",
    "- Create a word cloud, then <span style=\"color:red\">describe what you see in 2-3 sentences!</span>\n",
    "\n",
    "(Hint: You can find more information on how to create a Word Cloud at https://www.datacamp.com/community/tutorials/wordcloud-python)"
   ]
  },
  {
   "cell_type": "markdown",
   "metadata": {},
   "source": [
    "---"
   ]
  },
  {
   "cell_type": "markdown",
   "metadata": {},
   "source": [
    "## Exercise 3 "
   ]
  },
  {
   "cell_type": "markdown",
   "metadata": {},
   "source": [
    "Let's improve on the model used in class: decision tree on the bank dataset. (40%) "
   ]
  },
  {
   "cell_type": "markdown",
   "metadata": {},
   "source": [
    "**a)** In class we solved a classification problem on the *bank.csv* dataset using the kNN algorithm. The classifier performed poorly. Repeat the analysis carried out in class (based on the Notebook02), but now use a decision tree, set the maximum depth to be 6! **Hint:** Use the *tree.DecisionTreeClassifier* classifier!\n"
   ]
  },
  {
   "cell_type": "markdown",
   "metadata": {},
   "source": [
    "**b)** Now fit the tree using different parameters! Plot the ROC curve of the decision tree obtained in part a) and the new tree in the same figure (with different colors). Also plot the *y=x* diagonal line!"
   ]
  },
  {
   "cell_type": "markdown",
   "metadata": {},
   "source": [
    "**c)** Plot and interpret the decision tree. The easiest way to do this is with the sklearn.tree.plot_tree function. Here's a useful article: https://pythoninoffice.com/how-to-a-plot-decision-tree-in-python/.\n",
    "\n",
    "* If you would like, you can try plotting the decision tree using the graphviz package too. **Hints:** Visualize the decision tree trained in part a) using the *tree.export_graphviz* function. To present the tree use the *graphviz.Source* function or the *SVG* function of the *Ipython.display* package! If *graphviz* is not installed you can install it using the Anaconda Navigator or by using *pip install* or by installing with homebrew, *brew install graphviz*. If it doesn't seem to work you can also download it from this [link](https://graphviz.gitlab.io/download/) and inserting the following lines of codes (use the correct path for your downloaded file):<br><br>\n",
    "import os <br>\n",
    "os.environ[\"PATH\"] += os.pathsep + 'C:/Program Files (x86)/Graphviz2.38/bin') <br><br>\n",
    "\n",
    "* <span style=\"color:red\">Briefly interpret the results! According to what attribute did we split the tree first? Which were the usual splitting attributes? </span>"
   ]
  },
  {
   "cell_type": "markdown",
   "metadata": {},
   "source": [
    "**d)** Plot the feature importances for the decision tree. The link in part c) also has useful information about this. <span style=\"color:red\"> Briefly interpret. </span>"
   ]
  },
  {
   "cell_type": "markdown",
   "metadata": {},
   "source": [
    "## Works Cited:\n",
    "\n",
    "Please cite all external resources you used to complete this assignment. If you used ChatGPT, please include a link to the conversation."
   ]
  },
  {
   "cell_type": "code",
   "execution_count": null,
   "metadata": {},
   "outputs": [],
   "source": []
  }
 ],
 "metadata": {
  "kernelspec": {
   "display_name": "Python 3 (ipykernel)",
   "language": "python",
   "name": "python3"
  },
  "language_info": {
   "codemirror_mode": {
    "name": "ipython",
    "version": 3
   },
   "file_extension": ".py",
   "mimetype": "text/x-python",
   "name": "python",
   "nbconvert_exporter": "python",
   "pygments_lexer": "ipython3",
   "version": "3.10.12"
  }
 },
 "nbformat": 4,
 "nbformat_minor": 4
}
